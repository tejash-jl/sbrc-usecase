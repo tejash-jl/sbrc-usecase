{
 "cells": [
  {
   "cell_type": "code",
   "execution_count": null,
   "id": "3f0dd619",
   "metadata": {
    "pycharm": {
     "name": "#%%\n"
    }
   },
   "outputs": [],
   "source": [
    "import requests\n",
    "import random\n",
    "import json"
   ]
  },
  {
   "cell_type": "code",
   "execution_count": null,
   "id": "47d42ec6",
   "metadata": {
    "pycharm": {
     "name": "#%%\n"
    }
   },
   "outputs": [],
   "source": []
  },
  {
   "cell_type": "code",
   "execution_count": null,
   "id": "22c16507",
   "metadata": {
    "pycharm": {
     "name": "#%%\n"
    }
   },
   "outputs": [],
   "source": [
    "base_url = \"http://localhost:8081\"\n",
    "keycloak_url = \"http://keycloak:8080\""
   ]
  },
  {
   "cell_type": "code",
   "execution_count": null,
   "id": "4c0e4ef1",
   "metadata": {
    "pycharm": {
     "name": "#%%\n"
    }
   },
   "outputs": [],
   "source": [
    "resp = requests.get(base_url)\n",
    "assert resp.status_code == 404\n",
    "assert resp.json()[\"status\"] == 404\n",
    "assert resp.json()[\"error\"] == \"Not Found\""
   ]
  },
  {
   "cell_type": "code",
   "execution_count": null,
   "id": "27da0f32",
   "metadata": {
    "pycharm": {
     "name": "#%%\n"
    }
   },
   "outputs": [],
   "source": [
    "\n",
    "resp = requests.get(\"%s/api/docs/swagger.json\"%base_url)\n",
    "assert resp.status_code == 200\n",
    "assert resp.json()[\"swagger\"] == \"2.0\"\n",
    "assert resp.json()[\"paths\"] != None"
   ]
  },
  {
   "cell_type": "code",
   "execution_count": null,
   "id": "0edbbada",
   "metadata": {
    "pycharm": {
     "name": "#%%\n"
    }
   },
   "outputs": [],
   "source": [
    "swaggerJson = resp.json()\n",
    "swaggerJson[\"paths\"].keys()"
   ]
  },
  {
   "cell_type": "code",
   "execution_count": null,
   "id": "96d0bcfe",
   "metadata": {
    "pycharm": {
     "name": "#%%\n"
    }
   },
   "outputs": [],
   "source": []
  },
  {
   "cell_type": "code",
   "execution_count": null,
   "id": "ccc4ffbc-8ee7-4749-a00b-ea760b924a6d",
   "metadata": {
    "pycharm": {
     "name": "#%%\n"
    }
   },
   "outputs": [],
   "source": [
    "resp = requests.get(\"%s%s\"%(base_url, '/api/docs/Student.json'))\n",
    "assert resp.status_code == 200\n",
    "resp.json()"
   ]
  },
  {
   "cell_type": "code",
   "execution_count": null,
   "id": "f172010f-8184-4304-adbf-2c4aa21c38ff",
   "metadata": {
    "pycharm": {
     "name": "#%%\n"
    }
   },
   "outputs": [],
   "source": [
    "resp = requests.get(\"%s%s\"%(base_url, '/api/docs/Teacher.json'))\n",
    "assert resp.status_code == 200\n",
    "resp.json()"
   ]
  },
  {
   "cell_type": "markdown",
   "id": "749a18fc",
   "metadata": {
    "pycharm": {
     "name": "#%% md\n"
    }
   },
   "source": [
    "# invite student"
   ]
  },
  {
   "cell_type": "code",
   "execution_count": null,
   "id": "0fbcad28",
   "metadata": {
    "pycharm": {
     "name": "#%%\n"
    }
   },
   "outputs": [],
   "source": [
    "userId =str(random.randint(1e10,1e11))\n",
    "inviteJson = {\n",
    "    'name': 'u1',\n",
    "    'mobile': userId\n",
    "}\n",
    "resp = requests.post(\"%s%s\"%(base_url, '/api/v1/Student/invite'), json=inviteJson)\n",
    "print(resp.content)\n",
    "assert resp.status_code == 200\n",
    "print(resp.json())\n",
    "assert(resp.json()[\"id\"]==\"sunbird-rc.registry.invite\")\n",
    "assert resp.json()[\"params\"][\"status\"] == \"SUCCESSFUL\"\n",
    "entity_name=next(iter(resp.json()[\"result\"].keys()))\n",
    "assert \"Student\"==entity_name\n",
    "idx = resp.json()[\"result\"][entity_name][\"osid\"]\n",
    "print(idx)"
   ]
  },
  {
   "cell_type": "code",
   "execution_count": null,
   "id": "e0096a4c",
   "metadata": {
    "pycharm": {
     "name": "#%%\n"
    }
   },
   "outputs": [],
   "source": [
    "idx"
   ]
  },
  {
   "cell_type": "code",
   "execution_count": null,
   "id": "a4ff65b9",
   "metadata": {
    "pycharm": {
     "name": "#%%\n"
    }
   },
   "outputs": [],
   "source": [
    "userId"
   ]
  },
  {
   "cell_type": "code",
   "execution_count": null,
   "id": "bdb276a7",
   "metadata": {
    "pycharm": {
     "name": "#%%\n"
    }
   },
   "outputs": [],
   "source": []
  },
  {
   "cell_type": "code",
   "execution_count": null,
   "id": "9e5c997a",
   "metadata": {
    "pycharm": {
     "name": "#%%\n"
    }
   },
   "outputs": [],
   "source": [
    "headers = {\n",
    "    'content-type': 'application/x-www-form-urlencoded',\n",
    "}\n",
    "\n",
    "data = {\n",
    "  'client_id': 'registry-frontend',\n",
    "  'username': userId,\n",
    "  'password': 'abcd@123',\n",
    "  'grant_type': 'password'\n",
    "}\n",
    "\n",
    "response = requests.post('%s/auth/realms/sunbird-rc/protocol/openid-connect/token'%(keycloak_url), headers=headers, data=data)\n",
    "print(response.json())\n",
    "print(response.status_code)\n",
    "token = response.json()[\"access_token\"]\n"
   ]
  },
  {
   "cell_type": "code",
   "execution_count": null,
   "id": "5162487f",
   "metadata": {
    "pycharm": {
     "name": "#%%\n"
    }
   },
   "outputs": [],
   "source": [
    "token\n"
   ]
  },
  {
   "cell_type": "code",
   "execution_count": null,
   "id": "a398971a",
   "metadata": {
    "pycharm": {
     "name": "#%%\n"
    }
   },
   "outputs": [],
   "source": [
    "headers = {\n",
    "    'content-type': 'application/json',\n",
    "    'Authorization': 'Bearer %s'%token, \n",
    "}\n",
    "\n",
    "response = requests.get(\"%s%s\"%(base_url, '/api/v1/Student'), headers=headers,)\n",
    "print(\"%s%s\"%(base_url, '/api/v1/Student/'))\n",
    "response.text\n",
    "# response.status_code, response.json()"
   ]
  },
  {
   "cell_type": "code",
   "execution_count": null,
   "id": "7218f63f",
   "metadata": {
    "pycharm": {
     "name": "#%%\n"
    }
   },
   "outputs": [],
   "source": []
  },
  {
   "cell_type": "markdown",
   "id": "e164092c",
   "metadata": {
    "pycharm": {
     "name": "#%% md\n"
    }
   },
   "source": [
    "## Create teacher"
   ]
  },
  {
   "cell_type": "code",
   "execution_count": null,
   "id": "b31e0286",
   "metadata": {
    "pycharm": {
     "name": "#%%\n"
    }
   },
   "outputs": [],
   "source": [
    "headers = {\n",
    "    'content-type': 'application/json',\n",
    "    'authorization': 'bearer %s'%token,\n",
    "}\n",
    "\n",
    "data = '{\"name\": \"teacher1\", \"mobile\": \"%s\"}'%userId\n",
    "print(data)\n",
    "response = requests.post('http://localhost:8081/api/v1/Teacher', headers=headers, data=data)"
   ]
  },
  {
   "cell_type": "code",
   "execution_count": null,
   "id": "8ae86741",
   "metadata": {
    "pycharm": {
     "name": "#%%\n"
    }
   },
   "outputs": [],
   "source": [
    "response.status_code, response.json()"
   ]
  },
  {
   "cell_type": "code",
   "execution_count": null,
   "id": "6bc19944",
   "metadata": {
    "pycharm": {
     "name": "#%%\n"
    }
   },
   "outputs": [],
   "source": [
    "headers = {\n",
    "    'content-type': 'application/json',\n",
    "    'Authorization': 'Bearer %s'%token, \n",
    "}\n",
    "\n",
    "response = requests.get('http://localhost:8081/api/v1/Teacher', headers=headers)\n",
    "assert response.status_code == 200\n",
    "print(response.json())\n",
    "response.json()"
   ]
  },
  {
   "cell_type": "code",
   "execution_count": null,
   "id": "4e355a39-2251-442f-8dc0-76f5cf02d418",
   "metadata": {},
   "outputs": [],
   "source": []
  }
 ],
 "metadata": {
  "kernelspec": {
   "display_name": "Python 3 (ipykernel)",
   "language": "python",
   "name": "python3"
  },
  "language_info": {
   "codemirror_mode": {
    "name": "ipython",
    "version": 3
   },
   "file_extension": ".py",
   "mimetype": "text/x-python",
   "name": "python",
   "nbconvert_exporter": "python",
   "pygments_lexer": "ipython3",
   "version": "3.9.13"
  }
 },
 "nbformat": 4,
 "nbformat_minor": 5
}